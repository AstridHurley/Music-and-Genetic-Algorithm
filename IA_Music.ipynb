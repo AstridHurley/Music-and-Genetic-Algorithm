{
  "nbformat": 4,
  "nbformat_minor": 0,
  "metadata": {
    "colab": {
      "name": "IA_Music.ipynb",
      "provenance": [],
      "collapsed_sections": []
    },
    "kernelspec": {
      "name": "python3",
      "display_name": "Python 3"
    },
    "accelerator": "GPU"
  },
  "cells": [
    {
      "cell_type": "code",
      "metadata": {
        "id": "akp5GMstwz8a"
      },
      "source": [
        "# Set to false if you are not running\n",
        "# this notebook in Google Colaboratory\n",
        "run_on_colab = True"
      ],
      "execution_count": 68,
      "outputs": []
    },
    {
      "cell_type": "code",
      "metadata": {
        "id": "bmLjyoe8uxoD",
        "outputId": "5a64b848-6cd1-4138-b4c0-a84fa1361bea",
        "colab": {
          "base_uri": "https://localhost:8080/",
          "height": 35
        }
      },
      "source": [
        "if(run_on_colab):\n",
        "  from google.colab import drive\n",
        "  # This will prompt for authorization.\n",
        "  drive.mount('/content/drive')"
      ],
      "execution_count": 69,
      "outputs": [
        {
          "output_type": "stream",
          "text": [
            "Drive already mounted at /content/drive; to attempt to forcibly remount, call drive.mount(\"/content/drive\", force_remount=True).\n"
          ],
          "name": "stdout"
        }
      ]
    },
    {
      "cell_type": "code",
      "metadata": {
        "id": "bia4baHxylc0",
        "outputId": "614d65bf-40d0-4568-fe78-5fb0882e0abd",
        "colab": {
          "base_uri": "https://localhost:8080/",
          "height": 35
        }
      },
      "source": [
        "!pip install music21;"
      ],
      "execution_count": 70,
      "outputs": [
        {
          "output_type": "stream",
          "text": [
            "Requirement already satisfied: music21 in /usr/local/lib/python3.6/dist-packages (5.5.0)\n"
          ],
          "name": "stdout"
        }
      ]
    },
    {
      "cell_type": "code",
      "metadata": {
        "id": "B-Qm2wkzys1y",
        "outputId": "0fafa335-5bab-4b0c-f2a3-9a1bc0598508",
        "colab": {
          "resources": {
            "http://localhost:8080/nbextensions/google.colab/files.js": {
              "data": "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",
              "ok": true,
              "headers": [
                [
                  "content-type",
                  "application/javascript"
                ]
              ],
              "status": 200,
              "status_text": "OK"
            }
          },
          "base_uri": "https://localhost:8080/",
          "height": 75
        }
      },
      "source": [
        "if(run_on_colab):\n",
        "  from google.colab import files\n",
        "  files.upload()"
      ],
      "execution_count": null,
      "outputs": [
        {
          "output_type": "display_data",
          "data": {
            "text/html": [
              "\n",
              "     <input type=\"file\" id=\"files-3f9758fd-ae4d-4329-ba21-14bc81ec0b3c\" name=\"files[]\" multiple disabled\n",
              "        style=\"border:none\" />\n",
              "     <output id=\"result-3f9758fd-ae4d-4329-ba21-14bc81ec0b3c\">\n",
              "      Upload widget is only available when the cell has been executed in the\n",
              "      current browser session. Please rerun this cell to enable.\n",
              "      </output>\n",
              "      <script src=\"/nbextensions/google.colab/files.js\"></script> "
            ],
            "text/plain": [
              "<IPython.core.display.HTML object>"
            ]
          },
          "metadata": {
            "tags": []
          }
        },
        {
          "output_type": "stream",
          "text": [
            "Saving midi_files.zip to midi_files.zip\n"
          ],
          "name": "stdout"
        }
      ]
    },
    {
      "cell_type": "code",
      "metadata": {
        "id": "NwJJ0SFi1aJ_",
        "outputId": "c8cba0a5-eefd-4851-8ea7-158a10fdbdb8",
        "colab": {
          "base_uri": "https://localhost:8080/",
          "height": 1000
        }
      },
      "source": [
        "!unzip midi_files.zip;"
      ],
      "execution_count": 71,
      "outputs": [
        {
          "output_type": "stream",
          "text": [
            "Archive:  midi_files.zip\n",
            "replace midi_files/chopin/chpn-p15_format0.mid? [y]es, [n]o, [A]ll, [N]one, [r]ename: A\n",
            "  inflating: midi_files/chopin/chpn-p15_format0.mid  \n",
            "  inflating: __MACOSX/midi_files/chopin/._chpn-p15_format0.mid  \n",
            "  inflating: midi_files/chopin/chpn_op35_1_format0.mid  \n",
            "  inflating: __MACOSX/midi_files/chopin/._chpn_op35_1_format0.mid  \n",
            "  inflating: midi_files/chopin/chpn-p5_format0.mid  \n",
            "  inflating: __MACOSX/midi_files/chopin/._chpn-p5_format0.mid  \n",
            "  inflating: midi_files/chopin/chpn-p19_format0.mid  \n",
            "  inflating: __MACOSX/midi_files/chopin/._chpn-p19_format0.mid  \n",
            "  inflating: midi_files/chopin/.DS_Store  \n",
            "  inflating: __MACOSX/midi_files/chopin/._.DS_Store  \n",
            "  inflating: midi_files/chopin/chpn_op10_e12_format0.mid  \n",
            "  inflating: __MACOSX/midi_files/chopin/._chpn_op10_e12_format0.mid  \n",
            "  inflating: midi_files/chopin/chpn-p9_format0.mid  \n",
            "  inflating: __MACOSX/midi_files/chopin/._chpn-p9_format0.mid  \n",
            "  inflating: midi_files/chopin/chpn_op25_e2_format0.mid  \n",
            "  inflating: __MACOSX/midi_files/chopin/._chpn_op25_e2_format0.mid  \n",
            "  inflating: midi_files/chopin/chpn-p10_format0.mid  \n",
            "  inflating: __MACOSX/midi_files/chopin/._chpn-p10_format0.mid  \n",
            "  inflating: midi_files/chopin/chpn_op35_4_format0.mid  \n",
            "  inflating: __MACOSX/midi_files/chopin/._chpn_op35_4_format0.mid  \n",
            "  inflating: midi_files/chopin/chpn-p22_format0.mid  \n",
            "  inflating: __MACOSX/midi_files/chopin/._chpn-p22_format0.mid  \n",
            "  inflating: midi_files/chopin/chp_op18_format0.mid  \n",
            "  inflating: __MACOSX/midi_files/chopin/._chp_op18_format0.mid  \n",
            "  inflating: midi_files/chopin/chpn-p21_format0.mid  \n",
            "  inflating: __MACOSX/midi_files/chopin/._chpn-p21_format0.mid  \n",
            "  inflating: midi_files/chopin/chpn-p13_format0.mid  \n",
            "  inflating: __MACOSX/midi_files/chopin/._chpn-p13_format0.mid  \n",
            "  inflating: midi_files/chopin/chpn_op25_e1_format0.mid  \n",
            "  inflating: __MACOSX/midi_files/chopin/._chpn_op25_e1_format0.mid  \n",
            "  inflating: midi_files/chopin/chpn-p3_format0.mid  \n",
            "  inflating: __MACOSX/midi_files/chopin/._chpn-p3_format0.mid  \n",
            "  inflating: midi_files/chopin/chpn-p11-format0.mid  \n",
            "  inflating: __MACOSX/midi_files/chopin/._chpn-p11-format0.mid  \n",
            "  inflating: midi_files/chopin/chpn-p6_format0.mid  \n",
            "  inflating: __MACOSX/midi_files/chopin/._chpn-p6_format0.mid  \n",
            "  inflating: midi_files/chopin/chpn_op66_format0.mid  \n",
            "  inflating: __MACOSX/midi_files/chopin/._chpn_op66_format0.mid  \n",
            "  inflating: midi_files/chopin/chpn_op10_e01_format0.mid  \n",
            "  inflating: __MACOSX/midi_files/chopin/._chpn_op10_e01_format0.mid  \n",
            "  inflating: midi_files/chopin/chpn_op35_2_format0.mid  \n",
            "  inflating: __MACOSX/midi_files/chopin/._chpn_op35_2_format0.mid  \n",
            "  inflating: midi_files/chopin/chpn_op25_e4_format0.mid  \n",
            "  inflating: __MACOSX/midi_files/chopin/._chpn_op25_e4_format0.mid  \n",
            "  inflating: midi_files/chopin/chpn-p16_format0.mid  \n",
            "  inflating: __MACOSX/midi_files/chopin/._chpn-p16_format0.mid  \n",
            "  inflating: midi_files/chopin/chpn_op25_e11_format0.mid  \n",
            "  inflating: __MACOSX/midi_files/chopin/._chpn_op25_e11_format0.mid  \n",
            "  inflating: midi_files/chopin/chpn-p23_format0.mid  \n",
            "  inflating: __MACOSX/midi_files/chopin/._chpn-p23_format0.mid  \n",
            "  inflating: midi_files/chopin/chpn_op25_e3_format0.mid  \n",
            "  inflating: __MACOSX/midi_files/chopin/._chpn_op25_e3_format0.mid  \n",
            "  inflating: midi_files/chopin/chpn-p8_format0.mid  \n",
            "  inflating: __MACOSX/midi_files/chopin/._chpn-p8_format0.mid  \n",
            "  inflating: midi_files/chopin/chpn-p11_format0.mid  \n",
            "  inflating: __MACOSX/midi_files/chopin/._chpn-p11_format0.mid  \n",
            "  inflating: midi_files/chopin/chpn-e11_format0.mid  \n",
            "  inflating: __MACOSX/midi_files/chopin/._chpn-e11_format0.mid  \n",
            "  inflating: midi_files/chopin/chpn_op23_format0.mid  \n",
            "  inflating: __MACOSX/midi_files/chopin/._chpn_op23_format0.mid  \n",
            "  inflating: midi_files/chopin/chpn_op27_2_format0.mid  \n",
            "  inflating: __MACOSX/midi_files/chopin/._chpn_op27_2_format0.mid  \n",
            "  inflating: midi_files/chopin/chpn_op53_format0.mid  \n",
            "  inflating: __MACOSX/midi_files/chopin/._chpn_op53_format0.mid  \n",
            "  inflating: midi_files/chopin/chpn-p1_format0.mid  \n",
            "  inflating: __MACOSX/midi_files/chopin/._chpn-p1_format0.mid  \n",
            "  inflating: midi_files/chopin/chpn-p18_format0.mid  \n",
            "  inflating: __MACOSX/midi_files/chopin/._chpn-p18_format0.mid  \n",
            "  inflating: midi_files/chopin/chpn_op33_4_format.mid  \n",
            "  inflating: __MACOSX/midi_files/chopin/._chpn_op33_4_format.mid  \n",
            "  inflating: midi_files/chopin/chpn_op33_2_format0.mid  \n",
            "  inflating: __MACOSX/midi_files/chopin/._chpn_op33_2_format0.mid  \n",
            "  inflating: midi_files/chopin/chpn-p4_format0.mid  \n",
            "  inflating: __MACOSX/midi_files/chopin/._chpn-p4_format0.mid  \n",
            "  inflating: midi_files/chopin/chpn_op7_1_format0.mid  \n",
            "  inflating: __MACOSX/midi_files/chopin/._chpn_op7_1_format0.mid  \n",
            "  inflating: midi_files/chopin/chpn-p14_format0.mid  \n",
            "  inflating: __MACOSX/midi_files/chopin/._chpn-p14_format0.mid  \n",
            "  inflating: midi_files/chopin/chpn-e01_format0.mid  \n",
            "  inflating: __MACOSX/midi_files/chopin/._chpn-e01_format0.mid  \n",
            "  inflating: midi_files/chopin/chpn-p17_format0.mid  \n",
            "  inflating: __MACOSX/midi_files/chopin/._chpn-p17_format0.mid  \n",
            "  inflating: midi_files/chopin/chpn_op35_3_format0.mid  \n",
            "  inflating: __MACOSX/midi_files/chopin/._chpn_op35_3_format0.mid  \n",
            "  inflating: midi_files/chopin/chp_op31_format0.mid  \n",
            "  inflating: __MACOSX/midi_files/chopin/._chp_op31_format0.mid  \n",
            "  inflating: midi_files/chopin/chpn_op7_2_format0.mid  \n",
            "  inflating: __MACOSX/midi_files/chopin/._chpn_op7_2_format0.mid  \n",
            "  inflating: midi_files/chopin/chpn-p7_format0.mid  \n",
            "  inflating: __MACOSX/midi_files/chopin/._chpn-p7_format0.mid  \n",
            "  inflating: midi_files/chopin/chpn-p2_format0.mid  \n",
            "  inflating: __MACOSX/midi_files/chopin/._chpn-p2_format0.mid  \n",
            "  inflating: midi_files/chopin/chpn-e12_format0.mid  \n",
            "  inflating: __MACOSX/midi_files/chopin/._chpn-e12_format0.mid  \n",
            "  inflating: midi_files/chopin/chpn_op27_1_format0.mid  \n",
            "  inflating: __MACOSX/midi_files/chopin/._chpn_op27_1_format0.mid  \n",
            "  inflating: midi_files/chopin/chpn_op33_4_format0.mid  \n",
            "  inflating: __MACOSX/midi_files/chopin/._chpn_op33_4_format0.mid  \n",
            "  inflating: midi_files/chopin/chpn-p12_format0.mid  \n",
            "  inflating: __MACOSX/midi_files/chopin/._chpn-p12_format0.mid  \n",
            "  inflating: midi_files/chopin/chpn-p20_format0.mid  \n",
            "  inflating: __MACOSX/midi_files/chopin/._chpn-p20_format0.mid  \n",
            "  inflating: midi_files/chopin/chpn_op10_e05_format0.mid  \n",
            "  inflating: __MACOSX/midi_files/chopin/._chpn_op10_e05_format0.mid  \n",
            "  inflating: midi_files/.DS_Store    \n",
            "  inflating: __MACOSX/midi_files/._.DS_Store  \n"
          ],
          "name": "stdout"
        }
      ]
    },
    {
      "cell_type": "code",
      "metadata": {
        "id": "VLf30K191j7t"
      },
      "source": [
        "# Importing dependencies\n",
        "import glob\n",
        "import pickle\n",
        "import numpy\n",
        "from music21 import converter, instrument, note, chord, stream\n",
        "from keras.models import Sequential\n",
        "from keras.layers import Dense, Dropout, LSTM, Activation\n",
        "from keras.utils import np_utils\n",
        "from keras.callbacks import ModelCheckpoint"
      ],
      "execution_count": 72,
      "outputs": []
    },
    {
      "cell_type": "code",
      "metadata": {
        "id": "OxpQSpKj1tIs",
        "outputId": "e033c87e-aa0d-4696-9054-60d0771d5944",
        "colab": {
          "base_uri": "https://localhost:8080/",
          "height": 201
        }
      },
      "source": [
        "file = \"midi_files/chopin/chpn-p9_format0.mid\"\n",
        "midi = converter.parse(file)\n",
        "notes_to_parse = midi.flat.notes\n",
        "for element in notes_to_parse[:10]:\n",
        "  print(element, element.offset)"
      ],
      "execution_count": 73,
      "outputs": [
        {
          "output_type": "stream",
          "text": [
            "<music21.chord.Chord B3 E2> 0.0\n",
            "<music21.chord.Chord E3 G#3> 0.0\n",
            "<music21.note.Note B> 1/3\n",
            "<music21.chord.Chord E3 G#3> 2/3\n",
            "<music21.note.Note B> 1.0\n",
            "<music21.chord.Chord E-3 F#3> 1.0\n",
            "<music21.note.Note B> 1.0\n",
            "<music21.note.Note B> 4/3\n",
            "<music21.chord.Chord E-3 F#3> 5/3\n",
            "<music21.note.Note B> 1.75\n"
          ],
          "name": "stdout"
        }
      ]
    },
    {
      "cell_type": "code",
      "metadata": {
        "id": "W4Lg0LPJ2ARm",
        "outputId": "8022aadf-8a06-4871-cf83-92bad06f185b",
        "colab": {
          "base_uri": "https://localhost:8080/",
          "height": 35
        }
      },
      "source": [
        "notes = []\n",
        "for i,file in enumerate(glob.glob(\"midi_files/chopin/*.mid\")):\n",
        "  midi = converter.parse(file)\n",
        "  print('\\r', 'Parsing file ', i, \" \",file, end='')\n",
        "  notes_to_parse = None\n",
        "  try: # file has instrument parts\n",
        "    s2 = instrument.partitionByInstrument(midi)\n",
        "    notes_to_parse = s2.parts[0].recurse() \n",
        "  except: # file has notes in a flat structure\n",
        "    notes_to_parse = midi.flat.notes\n",
        "  for element in notes_to_parse:\n",
        "    if isinstance(element, note.Note):\n",
        "      notes.append(str(element.pitch))\n",
        "    elif isinstance(element, chord.Chord):\n",
        "      notes.append('.'.join(str(n) for n in element.normalOrder))\n",
        "with open('notes', 'wb') as filepath:\n",
        "  pickle.dump(notes, filepath)"
      ],
      "execution_count": 74,
      "outputs": [
        {
          "output_type": "stream",
          "text": [
            " Parsing file  50   midi_files/chopin/chpn-p10_format0.mid"
          ],
          "name": "stdout"
        }
      ]
    },
    {
      "cell_type": "code",
      "metadata": {
        "id": "MKEW_B9-3bag",
        "outputId": "b39902df-e573-41bb-c85e-2de0d6c6d553",
        "colab": {
          "base_uri": "https://localhost:8080/",
          "height": 35
        }
      },
      "source": [
        "# Count different possible outputs\n",
        "n_vocab = (len(set(notes)))\n",
        "n_vocab"
      ],
      "execution_count": 75,
      "outputs": [
        {
          "output_type": "execute_result",
          "data": {
            "text/plain": [
              "456"
            ]
          },
          "metadata": {
            "tags": []
          },
          "execution_count": 75
        }
      ]
    },
    {
      "cell_type": "code",
      "metadata": {
        "id": "Z5lzN-ZQ3wWb"
      },
      "source": [
        "sequence_length = 100\n",
        "# get all pitch names\n",
        "pitchnames = sorted(set(item for item in notes))\n",
        "# create a dictionary to map pitches to integers\n",
        "note_to_int = dict((note, number) for number, note in enumerate(pitchnames))\n",
        "network_input = []\n",
        "network_output = []\n",
        "# create input sequences and the corresponding outputs\n",
        "for i in range(0, len(notes) - sequence_length, 1):\n",
        "  sequence_in = notes[i:i + sequence_length] # Size sequence_length\n",
        "  sequence_out = notes[i + sequence_length]  # Size 1\n",
        "  # Map pitches of sequence_in to integers\n",
        "  network_input.append([note_to_int[char] for char in sequence_in])\n",
        "  # Map integer of sequence_out to an integer\n",
        "  network_output.append(note_to_int[sequence_out])\n",
        "n_patterns = len(network_input)\n",
        "# reshape the input into a format compatible with LSTM layers\n",
        "network_input = numpy.reshape(network_input, (n_patterns, sequence_length, 1))\n",
        "# normalize input\n",
        "network_input = network_input / float(n_vocab)\n",
        "network_output = np_utils.to_categorical(network_output)"
      ],
      "execution_count": 76,
      "outputs": []
    },
    {
      "cell_type": "code",
      "metadata": {
        "id": "eAE2ZFMf3xxE",
        "outputId": "6af568f1-0600-4d60-df78-b405508db245",
        "colab": {
          "base_uri": "https://localhost:8080/",
          "height": 35
        }
      },
      "source": [
        "network_input.shape"
      ],
      "execution_count": 77,
      "outputs": [
        {
          "output_type": "execute_result",
          "data": {
            "text/plain": [
              "(55535, 100, 1)"
            ]
          },
          "metadata": {
            "tags": []
          },
          "execution_count": 77
        }
      ]
    },
    {
      "cell_type": "code",
      "metadata": {
        "id": "IrMf5yEr3_Mf"
      },
      "source": [
        "def create_network(network_input, n_vocab):\n",
        "    \"\"\" create the structure of the neural network \"\"\"\n",
        "    model = Sequential()\n",
        "    model.add(LSTM(\n",
        "        512,\n",
        "        input_shape=(network_input.shape[1], network_input.shape[2]),\n",
        "        return_sequences=True\n",
        "    ))\n",
        "    model.add(Dropout(0.3))\n",
        "    model.add(LSTM(512, return_sequences=True))\n",
        "    model.add(Dropout(0.3))\n",
        "    model.add(LSTM(512))\n",
        "    model.add(Dense(256))\n",
        "    model.add(Dropout(0.3))\n",
        "    model.add(Dense(n_vocab))\n",
        "    model.add(Activation('softmax'))\n",
        "    model.compile(loss='categorical_crossentropy', optimizer='rmsprop')\n",
        "    return model"
      ],
      "execution_count": 78,
      "outputs": []
    },
    {
      "cell_type": "code",
      "metadata": {
        "id": "c4IedmkZ4B5k",
        "outputId": "6149c95b-0a9d-4178-bf19-c9fcc4fd829c",
        "colab": {
          "base_uri": "https://localhost:8080/",
          "height": 495
        }
      },
      "source": [
        "model = create_network(network_input,n_vocab)\n",
        "model.summary()"
      ],
      "execution_count": 79,
      "outputs": [
        {
          "output_type": "stream",
          "text": [
            "Model: \"sequential_4\"\n",
            "_________________________________________________________________\n",
            "Layer (type)                 Output Shape              Param #   \n",
            "=================================================================\n",
            "lstm_9 (LSTM)                (None, 100, 512)          1052672   \n",
            "_________________________________________________________________\n",
            "dropout_9 (Dropout)          (None, 100, 512)          0         \n",
            "_________________________________________________________________\n",
            "lstm_10 (LSTM)               (None, 100, 512)          2099200   \n",
            "_________________________________________________________________\n",
            "dropout_10 (Dropout)         (None, 100, 512)          0         \n",
            "_________________________________________________________________\n",
            "lstm_11 (LSTM)               (None, 512)               2099200   \n",
            "_________________________________________________________________\n",
            "dense_6 (Dense)              (None, 256)               131328    \n",
            "_________________________________________________________________\n",
            "dropout_11 (Dropout)         (None, 256)               0         \n",
            "_________________________________________________________________\n",
            "dense_7 (Dense)              (None, 456)               117192    \n",
            "_________________________________________________________________\n",
            "activation_3 (Activation)    (None, 456)               0         \n",
            "=================================================================\n",
            "Total params: 5,499,592\n",
            "Trainable params: 5,499,592\n",
            "Non-trainable params: 0\n",
            "_________________________________________________________________\n"
          ],
          "name": "stdout"
        }
      ]
    },
    {
      "cell_type": "code",
      "metadata": {
        "id": "zgxAwm1n4uI_"
      },
      "source": [
        "# In case we want to use previously trained weights\n",
        "weights = \"\"\n",
        "if(len(weights)>0): model.load_weights(weights)"
      ],
      "execution_count": 80,
      "outputs": []
    },
    {
      "cell_type": "code",
      "metadata": {
        "id": "6DtjNZ8a4wzI",
        "outputId": "8694a604-586d-4591-ef47-46ae05527381",
        "colab": {
          "base_uri": "https://localhost:8080/",
          "height": 1000
        }
      },
      "source": [
        "filepath = \"/content/drive/My Drive/Train_02/{epoch:02d}-{loss:.4f}.h5\"\n",
        "\n",
        "checkpoint = ModelCheckpoint(filepath, monitor='loss',verbose=0,\n",
        "                             save_best_only=True,mode='min')\n",
        "\n",
        "callbacks_list = [checkpoint]\n",
        "model.fit(network_input, network_output, epochs=200, batch_size=64, \n",
        "          callbacks=callbacks_list)"
      ],
      "execution_count": 81,
      "outputs": [
        {
          "output_type": "stream",
          "text": [
            "Epoch 1/200\n",
            "868/868 [==============================] - 71s 81ms/step - loss: 4.9312\n",
            "Epoch 2/200\n",
            "868/868 [==============================] - 70s 81ms/step - loss: 4.9092\n",
            "Epoch 3/200\n",
            "868/868 [==============================] - 70s 81ms/step - loss: 4.9592\n",
            "Epoch 4/200\n",
            "868/868 [==============================] - 70s 80ms/step - loss: 4.9151\n",
            "Epoch 5/200\n",
            "868/868 [==============================] - 70s 81ms/step - loss: 4.9452\n",
            "Epoch 6/200\n",
            "868/868 [==============================] - 70s 81ms/step - loss: 4.8485\n",
            "Epoch 7/200\n",
            "868/868 [==============================] - 70s 81ms/step - loss: 4.8460\n",
            "Epoch 8/200\n",
            "868/868 [==============================] - 70s 81ms/step - loss: 4.7704\n",
            "Epoch 9/200\n",
            "868/868 [==============================] - 70s 81ms/step - loss: 4.7161\n",
            "Epoch 10/200\n",
            "868/868 [==============================] - 70s 81ms/step - loss: 4.6764\n",
            "Epoch 11/200\n",
            "868/868 [==============================] - 70s 81ms/step - loss: 4.6140\n",
            "Epoch 12/200\n",
            "868/868 [==============================] - 70s 81ms/step - loss: 4.5345\n",
            "Epoch 13/200\n",
            "868/868 [==============================] - 70s 81ms/step - loss: 4.4405\n",
            "Epoch 14/200\n",
            "868/868 [==============================] - 70s 81ms/step - loss: 4.3230\n",
            "Epoch 15/200\n",
            "868/868 [==============================] - 70s 81ms/step - loss: 4.1857\n",
            "Epoch 16/200\n",
            "868/868 [==============================] - 70s 81ms/step - loss: 4.0381\n",
            "Epoch 17/200\n",
            "868/868 [==============================] - 70s 81ms/step - loss: 3.8761\n",
            "Epoch 18/200\n",
            "868/868 [==============================] - 70s 81ms/step - loss: 3.7168\n",
            "Epoch 19/200\n",
            "868/868 [==============================] - 70s 81ms/step - loss: 3.5581\n",
            "Epoch 20/200\n",
            "868/868 [==============================] - 70s 81ms/step - loss: 3.4096\n",
            "Epoch 21/200\n",
            "868/868 [==============================] - 70s 81ms/step - loss: 3.2859\n",
            "Epoch 22/200\n",
            "868/868 [==============================] - 70s 81ms/step - loss: 3.1502\n",
            "Epoch 23/200\n",
            "868/868 [==============================] - 70s 81ms/step - loss: 3.0127\n",
            "Epoch 24/200\n",
            "868/868 [==============================] - 70s 81ms/step - loss: 2.8674\n",
            "Epoch 25/200\n",
            "868/868 [==============================] - 70s 81ms/step - loss: 2.7333\n",
            "Epoch 26/200\n",
            "868/868 [==============================] - 70s 81ms/step - loss: 2.5959\n",
            "Epoch 27/200\n",
            "868/868 [==============================] - 70s 81ms/step - loss: 2.4756\n",
            "Epoch 28/200\n",
            "868/868 [==============================] - 70s 81ms/step - loss: 2.3459\n",
            "Epoch 29/200\n",
            "868/868 [==============================] - 70s 81ms/step - loss: 2.2333\n",
            "Epoch 30/200\n",
            "868/868 [==============================] - 70s 81ms/step - loss: 2.1271\n",
            "Epoch 31/200\n",
            "868/868 [==============================] - 70s 81ms/step - loss: 2.0181\n",
            "Epoch 32/200\n",
            "868/868 [==============================] - 70s 81ms/step - loss: 1.9254\n",
            "Epoch 33/200\n",
            "868/868 [==============================] - 70s 81ms/step - loss: 1.8319\n",
            "Epoch 34/200\n",
            "868/868 [==============================] - 70s 81ms/step - loss: 1.7387\n",
            "Epoch 35/200\n",
            "868/868 [==============================] - 70s 81ms/step - loss: 1.6559\n",
            "Epoch 36/200\n",
            "868/868 [==============================] - 70s 81ms/step - loss: 1.5937\n",
            "Epoch 37/200\n",
            "868/868 [==============================] - 70s 81ms/step - loss: 1.5112\n",
            "Epoch 38/200\n",
            "868/868 [==============================] - 70s 81ms/step - loss: 1.4473\n",
            "Epoch 39/200\n",
            "868/868 [==============================] - 70s 81ms/step - loss: 1.3875\n",
            "Epoch 40/200\n",
            "868/868 [==============================] - 70s 81ms/step - loss: 1.3285\n",
            "Epoch 41/200\n",
            "868/868 [==============================] - 70s 81ms/step - loss: 1.2711\n",
            "Epoch 42/200\n",
            "868/868 [==============================] - 70s 81ms/step - loss: 1.2170\n",
            "Epoch 43/200\n",
            "868/868 [==============================] - 70s 81ms/step - loss: 1.1777\n",
            "Epoch 44/200\n",
            "868/868 [==============================] - 70s 81ms/step - loss: 1.1378\n",
            "Epoch 45/200\n",
            "868/868 [==============================] - 70s 81ms/step - loss: 1.0848\n",
            "Epoch 46/200\n",
            "868/868 [==============================] - 70s 81ms/step - loss: 1.0629\n",
            "Epoch 47/200\n",
            "868/868 [==============================] - 70s 81ms/step - loss: 1.0205\n",
            "Epoch 48/200\n",
            "868/868 [==============================] - 71s 81ms/step - loss: 0.9879\n",
            "Epoch 49/200\n",
            "868/868 [==============================] - 70s 81ms/step - loss: 0.9581\n",
            "Epoch 50/200\n",
            "868/868 [==============================] - 70s 81ms/step - loss: 0.9352\n",
            "Epoch 51/200\n",
            "868/868 [==============================] - 70s 81ms/step - loss: 0.9046\n",
            "Epoch 52/200\n",
            "868/868 [==============================] - 70s 81ms/step - loss: 0.8771\n",
            "Epoch 53/200\n",
            "868/868 [==============================] - 70s 81ms/step - loss: 0.8533\n",
            "Epoch 54/200\n",
            "868/868 [==============================] - 70s 81ms/step - loss: 0.8352\n",
            "Epoch 55/200\n",
            "868/868 [==============================] - 70s 81ms/step - loss: 0.8221\n",
            "Epoch 56/200\n",
            "868/868 [==============================] - 71s 81ms/step - loss: 0.8048\n",
            "Epoch 57/200\n",
            "868/868 [==============================] - 70s 81ms/step - loss: 0.7822\n",
            "Epoch 58/200\n",
            "868/868 [==============================] - 70s 81ms/step - loss: 0.7657\n",
            "Epoch 59/200\n",
            "868/868 [==============================] - 70s 81ms/step - loss: 0.7508\n",
            "Epoch 60/200\n",
            "868/868 [==============================] - 70s 81ms/step - loss: 0.7350\n",
            "Epoch 61/200\n",
            "868/868 [==============================] - 70s 81ms/step - loss: 0.7275\n",
            "Epoch 62/200\n",
            "868/868 [==============================] - 70s 81ms/step - loss: 0.7144\n",
            "Epoch 63/200\n",
            "868/868 [==============================] - 70s 81ms/step - loss: 0.7047\n",
            "Epoch 64/200\n",
            "868/868 [==============================] - 70s 81ms/step - loss: 0.6981\n",
            "Epoch 65/200\n",
            "868/868 [==============================] - 70s 81ms/step - loss: 0.6844\n",
            "Epoch 66/200\n",
            "868/868 [==============================] - 70s 81ms/step - loss: 0.6820\n",
            "Epoch 67/200\n",
            "868/868 [==============================] - 70s 81ms/step - loss: 0.6805\n",
            "Epoch 68/200\n",
            "868/868 [==============================] - 71s 81ms/step - loss: 0.6705\n",
            "Epoch 69/200\n",
            "868/868 [==============================] - 70s 81ms/step - loss: 0.6556\n",
            "Epoch 70/200\n",
            "868/868 [==============================] - 70s 81ms/step - loss: 0.6537\n",
            "Epoch 71/200\n",
            "868/868 [==============================] - 70s 81ms/step - loss: 0.6503\n",
            "Epoch 72/200\n",
            "868/868 [==============================] - 70s 81ms/step - loss: 0.6397\n",
            "Epoch 73/200\n",
            "868/868 [==============================] - 70s 81ms/step - loss: 0.6329\n",
            "Epoch 74/200\n",
            "868/868 [==============================] - 70s 81ms/step - loss: 0.6317\n",
            "Epoch 75/200\n",
            "868/868 [==============================] - 70s 81ms/step - loss: 0.6257\n",
            "Epoch 76/200\n",
            "868/868 [==============================] - 70s 81ms/step - loss: 0.6188\n",
            "Epoch 77/200\n",
            "868/868 [==============================] - 70s 81ms/step - loss: 0.6161\n",
            "Epoch 78/200\n",
            "868/868 [==============================] - 70s 81ms/step - loss: 0.6134\n",
            "Epoch 79/200\n",
            "868/868 [==============================] - 70s 81ms/step - loss: 0.6189\n",
            "Epoch 80/200\n",
            "868/868 [==============================] - 70s 81ms/step - loss: 0.6179\n",
            "Epoch 81/200\n",
            "868/868 [==============================] - 70s 81ms/step - loss: 0.6048\n",
            "Epoch 82/200\n",
            "868/868 [==============================] - 70s 81ms/step - loss: 0.6095\n",
            "Epoch 83/200\n",
            "868/868 [==============================] - 70s 81ms/step - loss: 0.6044\n",
            "Epoch 84/200\n",
            "868/868 [==============================] - 70s 81ms/step - loss: 0.5996\n",
            "Epoch 85/200\n",
            "868/868 [==============================] - 70s 81ms/step - loss: 0.6019\n",
            "Epoch 86/200\n",
            "868/868 [==============================] - 70s 81ms/step - loss: 0.5966\n",
            "Epoch 87/200\n",
            "868/868 [==============================] - 70s 81ms/step - loss: 0.6006\n",
            "Epoch 88/200\n",
            "868/868 [==============================] - 70s 81ms/step - loss: 0.5980\n",
            "Epoch 89/200\n",
            "868/868 [==============================] - 70s 81ms/step - loss: 0.6036\n",
            "Epoch 90/200\n",
            "868/868 [==============================] - 70s 81ms/step - loss: 0.5931\n",
            "Epoch 91/200\n",
            "868/868 [==============================] - 70s 81ms/step - loss: 0.5949\n",
            "Epoch 92/200\n",
            "868/868 [==============================] - 70s 81ms/step - loss: 0.6016\n",
            "Epoch 93/200\n",
            "868/868 [==============================] - 70s 81ms/step - loss: 0.5949\n",
            "Epoch 94/200\n",
            "868/868 [==============================] - 70s 81ms/step - loss: 0.5857\n",
            "Epoch 95/200\n",
            "868/868 [==============================] - 70s 81ms/step - loss: 0.5901\n",
            "Epoch 96/200\n",
            "868/868 [==============================] - 70s 81ms/step - loss: 0.5942\n",
            "Epoch 97/200\n",
            "868/868 [==============================] - 70s 81ms/step - loss: 0.5982\n",
            "Epoch 98/200\n",
            "868/868 [==============================] - 70s 81ms/step - loss: 0.6007\n",
            "Epoch 99/200\n",
            "868/868 [==============================] - 70s 81ms/step - loss: 0.6006\n",
            "Epoch 100/200\n",
            "868/868 [==============================] - 70s 81ms/step - loss: 0.6036\n",
            "Epoch 101/200\n",
            "868/868 [==============================] - 70s 81ms/step - loss: 0.6026\n",
            "Epoch 102/200\n",
            "868/868 [==============================] - 70s 81ms/step - loss: 0.6158\n",
            "Epoch 103/200\n",
            "868/868 [==============================] - 70s 81ms/step - loss: 0.6113\n",
            "Epoch 104/200\n",
            "868/868 [==============================] - 70s 81ms/step - loss: 0.6282\n",
            "Epoch 105/200\n",
            "868/868 [==============================] - 70s 81ms/step - loss: 0.6090\n",
            "Epoch 106/200\n",
            "868/868 [==============================] - 70s 81ms/step - loss: 0.6198\n",
            "Epoch 107/200\n",
            "868/868 [==============================] - 70s 81ms/step - loss: 0.6285\n",
            "Epoch 108/200\n",
            "868/868 [==============================] - 70s 81ms/step - loss: 0.6260\n",
            "Epoch 109/200\n",
            "868/868 [==============================] - 70s 81ms/step - loss: 0.6168\n",
            "Epoch 110/200\n",
            "868/868 [==============================] - 70s 81ms/step - loss: 0.6572\n",
            "Epoch 111/200\n",
            "868/868 [==============================] - 70s 81ms/step - loss: 0.6369\n",
            "Epoch 112/200\n",
            "868/868 [==============================] - 70s 81ms/step - loss: 0.6476\n",
            "Epoch 113/200\n",
            "868/868 [==============================] - 70s 81ms/step - loss: 0.6417\n",
            "Epoch 114/200\n",
            "868/868 [==============================] - 70s 81ms/step - loss: 0.6515\n",
            "Epoch 115/200\n",
            "868/868 [==============================] - 70s 81ms/step - loss: 0.6628\n",
            "Epoch 116/200\n",
            "868/868 [==============================] - 70s 81ms/step - loss: 0.6547\n",
            "Epoch 117/200\n",
            "868/868 [==============================] - 70s 81ms/step - loss: 0.6664\n",
            "Epoch 118/200\n",
            "868/868 [==============================] - 70s 81ms/step - loss: 0.6817\n",
            "Epoch 119/200\n",
            "868/868 [==============================] - 70s 81ms/step - loss: 0.6928\n",
            "Epoch 120/200\n",
            "868/868 [==============================] - 70s 81ms/step - loss: 0.6922\n",
            "Epoch 121/200\n",
            "868/868 [==============================] - 70s 81ms/step - loss: 0.7069\n",
            "Epoch 122/200\n",
            "868/868 [==============================] - 70s 81ms/step - loss: 0.7223\n",
            "Epoch 123/200\n",
            "868/868 [==============================] - 70s 81ms/step - loss: 0.7398\n",
            "Epoch 124/200\n",
            "868/868 [==============================] - 70s 81ms/step - loss: 0.7434\n",
            "Epoch 125/200\n",
            "868/868 [==============================] - 70s 81ms/step - loss: 0.7611\n",
            "Epoch 126/200\n",
            "868/868 [==============================] - 70s 81ms/step - loss: 0.7531\n",
            "Epoch 127/200\n",
            "868/868 [==============================] - 70s 81ms/step - loss: 0.7559\n",
            "Epoch 128/200\n",
            "868/868 [==============================] - 70s 81ms/step - loss: 0.7734\n",
            "Epoch 129/200\n",
            "868/868 [==============================] - 70s 81ms/step - loss: 0.7898\n",
            "Epoch 130/200\n",
            "868/868 [==============================] - 70s 81ms/step - loss: 0.8060\n",
            "Epoch 131/200\n",
            "868/868 [==============================] - 70s 81ms/step - loss: 0.8593\n",
            "Epoch 132/200\n",
            "868/868 [==============================] - 70s 81ms/step - loss: 0.9257\n",
            "Epoch 133/200\n",
            "868/868 [==============================] - 70s 81ms/step - loss: 0.9595\n",
            "Epoch 134/200\n",
            "868/868 [==============================] - 70s 81ms/step - loss: 1.8958\n",
            "Epoch 135/200\n",
            "868/868 [==============================] - 70s 81ms/step - loss: 2.8194\n",
            "Epoch 136/200\n",
            "868/868 [==============================] - 70s 81ms/step - loss: 3.6772\n",
            "Epoch 137/200\n",
            "868/868 [==============================] - 70s 81ms/step - loss: 3.1087\n",
            "Epoch 138/200\n",
            "868/868 [==============================] - 70s 81ms/step - loss: 3.5380\n",
            "Epoch 139/200\n",
            "868/868 [==============================] - 70s 81ms/step - loss: 3.7800\n",
            "Epoch 140/200\n",
            "868/868 [==============================] - 70s 81ms/step - loss: 3.5397\n",
            "Epoch 141/200\n",
            "868/868 [==============================] - 70s 81ms/step - loss: 3.9440\n",
            "Epoch 142/200\n",
            "868/868 [==============================] - 70s 81ms/step - loss: 4.0487\n",
            "Epoch 143/200\n",
            "868/868 [==============================] - 70s 81ms/step - loss: 4.1078\n",
            "Epoch 144/200\n",
            "868/868 [==============================] - 70s 81ms/step - loss: 3.5578\n",
            "Epoch 145/200\n",
            "868/868 [==============================] - 70s 81ms/step - loss: 3.0893\n",
            "Epoch 146/200\n",
            "868/868 [==============================] - 70s 81ms/step - loss: 3.4764\n",
            "Epoch 147/200\n",
            "868/868 [==============================] - 70s 81ms/step - loss: 3.7806\n",
            "Epoch 148/200\n",
            "868/868 [==============================] - 70s 81ms/step - loss: 4.4039\n",
            "Epoch 149/200\n",
            "868/868 [==============================] - 70s 81ms/step - loss: 3.6807\n",
            "Epoch 150/200\n",
            "868/868 [==============================] - 70s 81ms/step - loss: 3.2929\n",
            "Epoch 151/200\n",
            "868/868 [==============================] - 70s 81ms/step - loss: 3.2490\n",
            "Epoch 152/200\n",
            "868/868 [==============================] - 70s 81ms/step - loss: 3.2083\n",
            "Epoch 153/200\n",
            "868/868 [==============================] - 70s 81ms/step - loss: 3.0879\n",
            "Epoch 154/200\n",
            "868/868 [==============================] - 70s 81ms/step - loss: 3.1322\n",
            "Epoch 155/200\n",
            "868/868 [==============================] - 70s 81ms/step - loss: 3.2163\n",
            "Epoch 156/200\n",
            "868/868 [==============================] - 70s 81ms/step - loss: 3.1082\n",
            "Epoch 157/200\n",
            "868/868 [==============================] - 70s 81ms/step - loss: 3.3436\n",
            "Epoch 158/200\n",
            "868/868 [==============================] - 70s 81ms/step - loss: 3.3100\n",
            "Epoch 159/200\n",
            "868/868 [==============================] - 70s 81ms/step - loss: 3.0905\n",
            "Epoch 160/200\n",
            "868/868 [==============================] - 70s 81ms/step - loss: 3.1084\n",
            "Epoch 161/200\n",
            "868/868 [==============================] - 70s 81ms/step - loss: 3.0124\n",
            "Epoch 162/200\n",
            "868/868 [==============================] - 70s 81ms/step - loss: 2.9714\n",
            "Epoch 163/200\n",
            "868/868 [==============================] - 70s 81ms/step - loss: 2.9438\n",
            "Epoch 164/200\n",
            "868/868 [==============================] - 70s 81ms/step - loss: 2.9502\n",
            "Epoch 165/200\n",
            "868/868 [==============================] - 70s 81ms/step - loss: 3.1661\n",
            "Epoch 166/200\n",
            "868/868 [==============================] - 70s 81ms/step - loss: 3.6978\n",
            "Epoch 167/200\n",
            "868/868 [==============================] - 70s 81ms/step - loss: 4.6594\n",
            "Epoch 168/200\n",
            "868/868 [==============================] - 70s 81ms/step - loss: 4.7714\n",
            "Epoch 169/200\n",
            "868/868 [==============================] - 70s 81ms/step - loss: 4.7662\n",
            "Epoch 170/200\n",
            "868/868 [==============================] - 70s 81ms/step - loss: 4.8408\n",
            "Epoch 171/200\n",
            "868/868 [==============================] - 70s 81ms/step - loss: 4.7755\n",
            "Epoch 172/200\n",
            "868/868 [==============================] - 70s 81ms/step - loss: 4.6111\n",
            "Epoch 173/200\n",
            "868/868 [==============================] - 70s 81ms/step - loss: 3.9099\n",
            "Epoch 174/200\n",
            "868/868 [==============================] - 70s 81ms/step - loss: 3.2919\n",
            "Epoch 175/200\n",
            "868/868 [==============================] - 70s 81ms/step - loss: 3.0193\n",
            "Epoch 176/200\n",
            "868/868 [==============================] - 70s 81ms/step - loss: 2.8422\n",
            "Epoch 177/200\n",
            "868/868 [==============================] - 70s 81ms/step - loss: 2.7364\n",
            "Epoch 178/200\n",
            "868/868 [==============================] - 70s 81ms/step - loss: 2.6933\n",
            "Epoch 179/200\n",
            "868/868 [==============================] - 70s 81ms/step - loss: 2.6888\n",
            "Epoch 180/200\n",
            "868/868 [==============================] - 70s 81ms/step - loss: 2.6296\n",
            "Epoch 181/200\n",
            "868/868 [==============================] - 70s 81ms/step - loss: 2.5825\n",
            "Epoch 182/200\n",
            "868/868 [==============================] - 70s 81ms/step - loss: 2.6190\n",
            "Epoch 183/200\n",
            "868/868 [==============================] - 70s 81ms/step - loss: 2.5287\n",
            "Epoch 184/200\n",
            "868/868 [==============================] - 70s 81ms/step - loss: 2.5700\n",
            "Epoch 185/200\n",
            "868/868 [==============================] - 70s 81ms/step - loss: 3.3252\n",
            "Epoch 186/200\n",
            "868/868 [==============================] - 70s 81ms/step - loss: 3.3016\n",
            "Epoch 187/200\n",
            "868/868 [==============================] - 70s 81ms/step - loss: 3.2840\n",
            "Epoch 188/200\n",
            "868/868 [==============================] - 70s 81ms/step - loss: 4.0761\n",
            "Epoch 189/200\n",
            "868/868 [==============================] - 70s 81ms/step - loss: 4.2405\n",
            "Epoch 190/200\n",
            "868/868 [==============================] - 70s 81ms/step - loss: 4.7526\n",
            "Epoch 191/200\n",
            "868/868 [==============================] - 70s 81ms/step - loss: 4.6708\n",
            "Epoch 192/200\n",
            "868/868 [==============================] - 70s 81ms/step - loss: 4.8711\n",
            "Epoch 193/200\n",
            "868/868 [==============================] - 70s 81ms/step - loss: 4.9417\n",
            "Epoch 194/200\n",
            "868/868 [==============================] - 70s 81ms/step - loss: 4.8601\n",
            "Epoch 195/200\n",
            "868/868 [==============================] - 70s 81ms/step - loss: 4.6700\n",
            "Epoch 196/200\n",
            "868/868 [==============================] - 70s 81ms/step - loss: 4.5249\n",
            "Epoch 197/200\n",
            "868/868 [==============================] - 70s 81ms/step - loss: 4.1688\n",
            "Epoch 198/200\n",
            "868/868 [==============================] - 70s 81ms/step - loss: 3.8107\n",
            "Epoch 199/200\n",
            "868/868 [==============================] - 70s 81ms/step - loss: 3.4353\n",
            "Epoch 200/200\n",
            "868/868 [==============================] - 70s 81ms/step - loss: 3.2744\n"
          ],
          "name": "stdout"
        },
        {
          "output_type": "execute_result",
          "data": {
            "text/plain": [
              "<tensorflow.python.keras.callbacks.History at 0x7f6e8fc65630>"
            ]
          },
          "metadata": {
            "tags": []
          },
          "execution_count": 81
        }
      ]
    },
    {
      "cell_type": "markdown",
      "metadata": {
        "id": "Ibl0uA-j-buc"
      },
      "source": [
        "_-----------------------------------------_\n"
      ]
    },
    {
      "cell_type": "code",
      "metadata": {
        "id": "RcdFNwFuy9vB"
      },
      "source": [
        "# In case we want to use other previously trained weights\n",
        "weights = \"/content/drive/My Drive/Train_02/94-0.5857.h5\"\n",
        "if(len(weights)>0): model.load_weights(weights)"
      ],
      "execution_count": 83,
      "outputs": []
    },
    {
      "cell_type": "code",
      "metadata": {
        "id": "qXhHcRDJ4fn4"
      },
      "source": [
        "# Generate network input again\n",
        "network_input = []\n",
        "output = []\n",
        "for i in range(0, len(notes) - sequence_length, 1):\n",
        "  sequence_in = notes[i:i + sequence_length]\n",
        "  sequence_out = notes[i + sequence_length]\n",
        "  network_input.append([note_to_int[char] for char in sequence_in])\n",
        "  output.append(note_to_int[sequence_out])\n",
        "n_patterns = len(network_input)"
      ],
      "execution_count": 84,
      "outputs": []
    },
    {
      "cell_type": "code",
      "metadata": {
        "id": "aouktmj3-k81",
        "outputId": "e8cdf3b4-b2aa-4480-803a-fae07bf2969c",
        "colab": {
          "base_uri": "https://localhost:8080/",
          "height": 35
        }
      },
      "source": [
        "\"\"\" Generate notes from the neural network based on a sequence of notes \"\"\"\n",
        "# pick a random sequence from the input as a starting point for the prediction\n",
        "start = numpy.random.randint(0, len(network_input)-1)\n",
        "int_to_note = dict((number, note) for number, note in enumerate(pitchnames))\n",
        "pattern = network_input[start]\n",
        "prediction_output = []\n",
        "# generate 500 notes\n",
        "for i,note_index in enumerate(range(500)):\n",
        "  prediction_input = numpy.reshape(pattern, (1, len(pattern), 1))\n",
        "  prediction_input = prediction_input / float(n_vocab)\n",
        "  prediction = model.predict(prediction_input, verbose=0)\n",
        "  index = numpy.argmax(prediction)\n",
        "  result = int_to_note[index]\n",
        "  print('\\r', 'Predicted ', i, \" \",result, end='')\n",
        "  prediction_output.append(result)\n",
        "  pattern.append(index)\n",
        "  pattern = pattern[1:len(pattern)]"
      ],
      "execution_count": 85,
      "outputs": [
        {
          "output_type": "stream",
          "text": [
            " Predicted  499   F5"
          ],
          "name": "stdout"
        }
      ]
    },
    {
      "cell_type": "code",
      "metadata": {
        "id": "vJgL1f4t7_mt",
        "outputId": "a9009cc5-f3db-4bd8-be31-3cc9bae0ae3a",
        "colab": {
          "base_uri": "https://localhost:8080/",
          "height": 36
        }
      },
      "source": [
        "offset = 0\n",
        "output_notes = []\n",
        "# create note and chord objects based on the values generated by the model\n",
        "for pattern in prediction_output:\n",
        "    # pattern is a chord\n",
        "    if ('.' in pattern) or pattern.isdigit():\n",
        "        notes_in_chord = pattern.split('.')\n",
        "        notes = []\n",
        "        for current_note in notes_in_chord:\n",
        "            new_note = note.Note(int(current_note))\n",
        "            new_note.storedInstrument = instrument.Piano()\n",
        "            notes.append(new_note)\n",
        "        new_chord = chord.Chord(notes)\n",
        "        new_chord.offset = offset\n",
        "        output_notes.append(new_chord)\n",
        "    # pattern is a note\n",
        "    else:\n",
        "        new_note = note.Note(pattern)\n",
        "        new_note.offset = offset\n",
        "        new_note.storedInstrument = instrument.Piano()\n",
        "        output_notes.append(new_note)\n",
        "\n",
        "    # increase offset each iteration so that notes do not stack\n",
        "    offset += 0.5\n",
        "\n",
        "midi_stream = stream.Stream(output_notes)\n",
        "midi_stream.write('midi', fp='Salida_02.mid')"
      ],
      "execution_count": 86,
      "outputs": [
        {
          "output_type": "execute_result",
          "data": {
            "application/vnd.google.colaboratory.intrinsic+json": {
              "type": "string"
            },
            "text/plain": [
              "'Salida_02.mid'"
            ]
          },
          "metadata": {
            "tags": []
          },
          "execution_count": 86
        }
      ]
    }
  ]
}